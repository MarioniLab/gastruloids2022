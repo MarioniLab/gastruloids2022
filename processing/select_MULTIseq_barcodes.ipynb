{
 "cells": [
  {
   "cell_type": "code",
   "execution_count": 1,
   "metadata": {},
   "outputs": [],
   "source": [
    "import numpy as np\n",
    "import pandas as pd\n",
    "from scipy.spatial import distance\n",
    "import copy\n",
    "import matplotlib.pyplot as plt"
   ]
  },
  {
   "cell_type": "code",
   "execution_count": 2,
   "metadata": {},
   "outputs": [],
   "source": [
    "bars = np.loadtxt(\"bars\", delimiter=\"\\n\", dtype=str)\n",
    "bars_rc = np.array([ np.loadtxt(\"bars_rc\", delimiter=\"\\n\", dtype=str).reshape(1)[0][i:i+8] for i in range(0, 96*8, 8) ][::-1])\n",
    "#bars_rc = bars"
   ]
  },
  {
   "cell_type": "code",
   "execution_count": 3,
   "metadata": {},
   "outputs": [],
   "source": [
    "# Subset barcodes for when we hadn't bought all barcodes (due to my code having a bug)\n",
    "\n",
    "#selec = np.array([ 1, 2, 3, 4, 5, 6, 7, 8, 9, 10, 11, 12, 13, 14, 15, 16,\n",
    "#         17, 18, 19, 20, 21, 22, 23, 24, 25, 28, 30, 39, 41, 45,\n",
    "#         47, 49, 52, 55, 56, 59, 61, 65, 66 ]) - 1\n",
    "#selec = np.array([79, 82, 84, 56, 59, 61, 65, 66, 68, 69, 70, 71,\n",
    "#                  77, 25, 28, 30, 39, 41, 45, 47, 49, 52, 55\n",
    "#                 ]\n",
    "#                ) - 1\n",
    "selec = np.arange(len(bars))\n",
    "bars = bars[selec]\n",
    "bars_rc = bars_rc[selec]"
   ]
  },
  {
   "cell_type": "markdown",
   "metadata": {},
   "source": [
    "# Check for Rev. Complements"
   ]
  },
  {
   "cell_type": "code",
   "execution_count": 4,
   "metadata": {
    "scrolled": true
   },
   "outputs": [
    {
     "name": "stdout",
     "output_type": "stream",
     "text": [
      "Reverse complement pairs:\n",
      "sequences:\n",
      "['CTCTCTCT', 'GAATCTCG', 'ATCGGTCA', 'ACCGATTG', 'CGAGATTC', 'CAAGGTCT', 'TTCCTTCC', 'TCCCCTTT', 'AGACCTTG', 'GTCAATCG', 'GCCAGTTA', 'ATCTCGGA', 'ACCTTGAG', 'CGATTGAC', 'CAATCGGT', 'TTCGGGGC', 'TCCGAGAT', 'AGAGAGAG', 'AAAGGGGA', 'GTCCTGGG', 'GCCCCGAA', 'TGACCGAT', 'TAACTGGC', 'CTCAAGGT', 'CCCAGGAC', 'GGAAGGAA']\n",
      "Barcode numbers:\n",
      "[[66  5]\n",
      " [18  8]\n",
      " [82 14]\n",
      " [54 16]\n",
      " [ 8 18]\n",
      " [33 20]\n",
      " [96 28]\n",
      " [68 30]\n",
      " [20 33]\n",
      " [52 39]\n",
      " [84 41]\n",
      " [63 48]\n",
      " [92 50]\n",
      " [39 52]\n",
      " [16 54]\n",
      " [79 61]\n",
      " [48 63]\n",
      " [ 5 66]\n",
      " [30 68]\n",
      " [94 77]\n",
      " [61 79]\n",
      " [14 82]\n",
      " [41 84]\n",
      " [50 92]\n",
      " [77 94]\n",
      " [28 96]]\n"
     ]
    }
   ],
   "source": [
    "intersect = [value for value in bars_rc if value in bars] \n",
    "print('Reverse complement pairs:')\n",
    "print('sequences:')\n",
    "print(intersect)\n",
    "print('Barcode numbers:')\n",
    "tmp = np.array([(selec[np.where(bars == b)[0][0]]+1,\n",
    "                 selec[np.where(bars_rc == b)[0][0]]+1)\n",
    "                for b in intersect\n",
    "               ]\n",
    "              )\n",
    "print(tmp)"
   ]
  },
  {
   "cell_type": "markdown",
   "metadata": {},
   "source": [
    "# Define distance metrics"
   ]
  },
  {
   "cell_type": "code",
   "execution_count": 5,
   "metadata": {},
   "outputs": [],
   "source": [
    "import hashlib\n",
    "\n",
    "def hamming_distance(chaine1, chaine2):\n",
    "    return sum(c1 != c2 for c1, c2 in zip(chaine1, chaine2))\n",
    "\n",
    "\n",
    "import editdistance\n",
    "\n",
    "def lcs(S,T):\n",
    "    m = len(S)\n",
    "    n = len(T)\n",
    "    counter = [[0]*(n+1) for x in range(m+1)]\n",
    "    longest = 0\n",
    "    lcs_set = set()\n",
    "    for i in range(m):\n",
    "        for j in range(n):\n",
    "            if S[i] == T[j]:\n",
    "                c = counter[i][j] + 1\n",
    "                counter[i+1][j+1] = c\n",
    "                if c > longest:\n",
    "                    lcs_set = set()\n",
    "                    longest = c\n",
    "                    lcs_set.add(S[i-c+1:i+1])\n",
    "                elif c == longest:\n",
    "                    lcs_set.add(S[i-c+1:i+1])\n",
    "\n",
    "    return lcs_set"
   ]
  },
  {
   "cell_type": "markdown",
   "metadata": {},
   "source": [
    "# Quantify similarity scores"
   ]
  },
  {
   "cell_type": "code",
   "execution_count": 6,
   "metadata": {},
   "outputs": [],
   "source": [
    "# Calculate distance metrics on the reverse complement sequences\n",
    "dist_ham_rc = np.zeros((len(bars),len(bars)))\n",
    "dist_LD_rc = np.zeros((len(bars),len(bars)))\n",
    "dist_ss_rc = np.zeros((len(bars),len(bars)))\n",
    "for i, b in enumerate(bars):\n",
    "    for j, b_rc in enumerate(bars_rc):\n",
    "        dist_ham_rc[i,j] = hamming_distance(b, b_rc)\n",
    "        dist_LD_rc[i,j] = editdistance.eval(b, b_rc)\n",
    "        \n",
    "        tmp = lcs(b, b_rc)\n",
    "        if len(tmp) == 0:\n",
    "            dist_ss_rc[i,j] = 8\n",
    "        else:\n",
    "            dist_ss_rc[i,j] = 8-len(lcs(b, b_rc).pop())\n",
    "\n",
    "# Calculate distance metrics on the forward sequences\n",
    "dist_ham = np.zeros((len(bars),len(bars)))\n",
    "dist_LD = np.zeros((len(bars),len(bars)))\n",
    "dist_ss = np.zeros((len(bars),len(bars)))\n",
    "for i, b in enumerate(bars):\n",
    "    for j, b_rc in enumerate(bars):\n",
    "        dist_ham[i,j] = hamming_distance(b, b_rc)\n",
    "        dist_LD[i,j] = editdistance.eval(b, b_rc)\n",
    "        \n",
    "        tmp = lcs(b, b_rc)\n",
    "        if len(tmp) == 0:\n",
    "            dist_ss[i,j] = 8\n",
    "        else:\n",
    "            dist_ss[i,j] = 8-len(lcs(b, b_rc).pop())"
   ]
  },
  {
   "cell_type": "code",
   "execution_count": 7,
   "metadata": {},
   "outputs": [
    {
     "data": {
      "image/png": "[encoded data removed]",
      "text/plain": [
       "<Figure size 432x288 with 1 Axes>"
      ]
     },
     "metadata": {
      "needs_background": "light"
     },
     "output_type": "display_data"
    }
   ],
   "source": [
    "########################################################\n",
    "## Decide penalty functions for the different metrics ##\n",
    "########################################################\n",
    "\n",
    "d1 = np.arange(0,4)\n",
    "d2 = np.arange(4,9)\n",
    "plt.plot(d1,d1-2, label = 'penalty for reverse complement of the Hamming distance')\n",
    "plt.plot(d1, d1 + 16*((1/(1+np.exp(-0.5*(d1-2)))) - 0.5), label='penalty for Hamming, Levenshtein, and rc Hamming distance')\n",
    "plt.plot(np.hstack((d1,d2)), np.hstack((d1,d2)), label = 'x=y line')\n",
    "plt.plot(d1, 32*((1/(1+np.exp(-0.5*(d1-4)))) - 0.5), label = 'penalty for substring distance')\n",
    "plt.plot(d1, 64*((1/(1+np.exp(-2*(d1-4)))) - 0.5), label = 'penalty for rc substring distance')\n",
    "plt.plot(d2, [8]*len(d2), label = 'Baseline')\n",
    "#plt.axvline(3.5);\n",
    "plt.legend(loc='center right', bbox_to_anchor=(2.1, 0.5));"
   ]
  },
  {
   "cell_type": "code",
   "execution_count": 8,
   "metadata": {},
   "outputs": [],
   "source": [
    "# Record scored minimal distances in a similarity matrix\n",
    "\n",
    "# initialiase matrix with all barcodes being 8bp apart\n",
    "sim_mat_quant = np.zeros((len(bars), len(bars))) + 8\n",
    "\n",
    "# for all barcode pairs, record the minimum of the penalised distance functions, for distances less than 4\n",
    "for d in range(3,-1,-1):\n",
    "    \n",
    "    tmp = pd.DataFrame(np.where(dist_ham==d)).T\n",
    "    for index, row in tmp.iterrows():\n",
    "        if row[0] != row[1]:\n",
    "            sim_mat_quant[row[0], row[1]] = min(sim_mat_quant[row[0], row[1]], d + 16*((1/(1+np.exp(-0.5*(d-2)))) - 0.5))\n",
    "    \n",
    "    tmp = pd.DataFrame(np.where(dist_ham_rc==d)).T\n",
    "    #print(tmp)\n",
    "    for index, row in tmp.iterrows():\n",
    "        if row[0] != row[1]:\n",
    "            sim_mat_quant[row[0], row[1]] = min(sim_mat_quant[row[0], row[1]], d-2)\n",
    "            #sim_mat_quant[row[0], row[1]] = min(sim_mat_quant[row[0], row[1]], 8*((1/(1+np.exp(-2*(d-3)))) - 0.5))\n",
    "    \n",
    "    tmp = pd.DataFrame(np.where(dist_LD==d)).T\n",
    "    for index, row in tmp.iterrows():\n",
    "        if row[0] != row[1]:\n",
    "            sim_mat_quant[row[0], row[1]] = min(sim_mat_quant[row[0], row[1]], d + 16*((1/(1+np.exp(-0.5*(d-2)))) - 0.5))\n",
    "    \n",
    "    tmp = pd.DataFrame(np.where(dist_LD_rc==d)).T\n",
    "    for index, row in tmp.iterrows():\n",
    "        if row[0] != row[1]:\n",
    "            sim_mat_quant[row[0], row[1]] = min(sim_mat_quant[row[0], row[1]], d + 16*((1/(1+np.exp(-0.5*(d-2)))) - 0.5))\n",
    "    \n",
    "    tmp = pd.DataFrame(np.where(dist_ss==d)).T\n",
    "    for index, row in tmp.iterrows():\n",
    "        if row[0] != row[1]:\n",
    "            #sim_mat_quant[row[0], row[1]] = min(sim_mat_quant[row[0], row[1]], d-2)\n",
    "            sim_mat_quant[row[0], row[1]] = min(sim_mat_quant[row[0], row[1]], 32*((1/(1+np.exp(-0.5*(d-4)))) - 0.5))\n",
    "\n",
    "    tmp = pd.DataFrame(np.where(dist_ss_rc==d)).T\n",
    "    for index, row in tmp.iterrows():\n",
    "        if row[0] != row[1]:\n",
    "            #sim_mat_quant[row[0], row[1]] = d-2\n",
    "            sim_mat_quant[row[0], row[1]] = min(sim_mat_quant[row[0], row[1]], 64*((1/(1+np.exp(-2*(d-4)))) - 0.5))\n"
   ]
  },
  {
   "cell_type": "code",
   "execution_count": 9,
   "metadata": {
    "scrolled": true
   },
   "outputs": [],
   "source": [
    "# Iteratively remove the worst-scoring barcode in a greedy algorithm, until either all barcodes are removed, or all barcodes are perfectly apart\n",
    "\n",
    "sub_sim_mat_quant = pd.DataFrame(copy.deepcopy(sim_mat_quant))\n",
    "\n",
    "to_del = []\n",
    "to_del_idx_list = \"tmp\"\n",
    "while ((len(to_del_idx_list) != 0) and (len(to_del) != len(bars))):\n",
    "    \n",
    "    sums = np.sum(sub_sim_mat_quant.values, axis=0)\n",
    "    to_del_idx_list = sub_sim_mat_quant.columns[np.where(sums == np.min(sums))[0]].values\n",
    "    #print(to_del_idx_list)\n",
    "    if len(to_del_idx_list) > 1:\n",
    "        sums = []\n",
    "        for idx in to_del_idx_list:\n",
    "            tmp = copy.deepcopy(sub_sim_mat_quant)\n",
    "            tmp.drop(idx, axis=0, inplace=True)\n",
    "            tmp.drop(idx, axis=1, inplace=True)\n",
    "            sums.append(np.sum(tmp.values))\n",
    "        to_del_idx = to_del_idx_list[np.argmax(sums)]\n",
    "    else:\n",
    "        to_del_idx = to_del_idx_list[0]\n",
    "    to_del.append(to_del_idx)\n",
    "    #print(to_del)\n",
    "    #i += 1\n",
    "    #if i==2:\n",
    "    #    break\n",
    "    sub_sim_mat_quant.drop(to_del_idx, axis=0, inplace=True)\n",
    "    sub_sim_mat_quant.drop(to_del_idx, axis=1, inplace=True)"
   ]
  },
  {
   "cell_type": "code",
   "execution_count": 10,
   "metadata": {
    "scrolled": false
   },
   "outputs": [
    {
     "name": "stdout",
     "output_type": "stream",
     "text": [
      "Number of barcodes removed before perfect distances:\n",
      "96\n",
      "Barcodes removed in the following order:\n",
      "[76 78 87 16 64 26 33 18 41 43 54 21 81 50 48  9 28 79 68 94 95 55 91 49\n",
      " 29 34 17  1  4 72 83 63 75 19 36 70 13 59 66 38 39 82 27 10 84 57 44 20\n",
      " 89 85 73 15 30 32  6 58 67 22  5 62 35 37 74 90 92  7 24 31 40 52 60  2\n",
      "  3  8 11 12 14 23 25 42 45 46 47 51 53 56 61 65 69 71 77 80 86 88 93 96]\n"
     ]
    }
   ],
   "source": [
    "print('Number of barcodes removed before perfect distances:')\n",
    "print(len(to_del))\n",
    "\n",
    "print('Barcodes removed in the following order:')\n",
    "print(selec[np.array(to_del)] + 1)"
   ]
  },
  {
   "cell_type": "code",
   "execution_count": 11,
   "metadata": {},
   "outputs": [],
   "source": [
    "num_choose = 32"
   ]
  },
  {
   "cell_type": "code",
   "execution_count": 12,
   "metadata": {},
   "outputs": [
    {
     "data": {
      "text/plain": [
       "array([ 2,  3,  7,  8, 11, 12, 14, 23, 24, 25, 31, 40, 42, 45, 46, 47, 51,\n",
       "       52, 53, 56, 60, 61, 65, 69, 71, 77, 80, 86, 88, 92, 93, 96])"
      ]
     },
     "execution_count": 12,
     "metadata": {},
     "output_type": "execute_result"
    }
   ],
   "source": [
    "np.sort(selec[np.array(to_del[-num_choose:])] + 1)"
   ]
  },
  {
   "cell_type": "code",
   "execution_count": 13,
   "metadata": {},
   "outputs": [
    {
     "name": "stdout",
     "output_type": "stream",
     "text": [
      "['CCACAATG' 'TGAGACCT' 'GAAAAGGG' 'CGAGATTC' 'TTAGCCAG' 'GGACCCCA'\n",
      " 'TGACCGAT' 'AGAAGAGG' 'GTACGCAT' 'CGAAGCCC' 'TTACGGTG' 'ACAGTGCT'\n",
      " 'CCAGTTAG' 'TGCTACAG' 'GCCGACCA' 'CACCACGG' 'AGCTAGTC' 'GTCAATCG'\n",
      " 'CGCTATGA' 'CGCGCACA' 'TTCTCCTC' 'GCCCCGAA' 'GACACTAC' 'CTCGGAAT'\n",
      " 'TCCAGAGT' 'CCCAGGAC' 'GGCCGGTT' 'GCCTTAGA' 'AGCATCAC' 'ACCTTGAG'\n",
      " 'TACGTGCA' 'TTCCTTCC']\n"
     ]
    }
   ],
   "source": [
    "bars_sub = np.loadtxt(\"bars\", delimiter=\"\\n\", dtype=str)[np.sort(selec[np.array(to_del[-num_choose:])])]\n",
    "print(bars_sub)\n",
    "bars_rc_sub = np.array([ np.loadtxt(\"bars_rc\", delimiter=\"\\n\", dtype=str).reshape(1)[0][i:i+8] for i in range(0, 96*8, 8) ][::-1])[np.sort(selec[np.array(to_del[-num_choose:])])]"
   ]
  },
  {
   "cell_type": "code",
   "execution_count": 14,
   "metadata": {},
   "outputs": [],
   "source": [
    "dist_ham_rc = np.zeros((len(bars_sub),len(bars_sub)))\n",
    "dist_LD_rc = np.zeros((len(bars_sub),len(bars_sub)))\n",
    "dist_ss_rc = np.zeros((len(bars_sub),len(bars_sub)))\n",
    "for i, b in enumerate(bars_sub):\n",
    "    for j, b_rc in enumerate(bars_rc_sub):\n",
    "        dist_ham_rc[i,j] = hamming_distance(b, b_rc)\n",
    "        dist_LD_rc[i,j] = editdistance.eval(b, b_rc)\n",
    "        \n",
    "        tmp = lcs(b, b_rc)\n",
    "        if len(tmp) == 0:\n",
    "            dist_ss_rc[i,j] = 8\n",
    "        else:\n",
    "            dist_ss_rc[i,j] = 8-len(lcs(b, b_rc).pop())\n",
    "\n",
    "dist_ham = np.zeros((len(bars_sub),len(bars_sub)))\n",
    "dist_LD = np.zeros((len(bars_sub),len(bars_sub)))\n",
    "dist_ss = np.zeros((len(bars_sub),len(bars_sub)))\n",
    "for i, b in enumerate(bars_sub):\n",
    "    for j, b_rc in enumerate(bars_sub):\n",
    "        dist_ham[i,j] = hamming_distance(b, b_rc)\n",
    "        dist_LD[i,j] = editdistance.eval(b, b_rc)\n",
    "        \n",
    "        tmp = lcs(b, b_rc)\n",
    "        if len(tmp) == 0:\n",
    "            dist_ss[i,j] = 8\n",
    "        else:\n",
    "            dist_ss[i,j] = 8-len(lcs(b, b_rc).pop())"
   ]
  },
  {
   "cell_type": "code",
   "execution_count": 15,
   "metadata": {},
   "outputs": [
    {
     "data": {
      "text/plain": [
       "(array([0., 4., 5., 6., 7., 8.]), array([496,  81,  60, 255,  60,  72]))"
      ]
     },
     "execution_count": 15,
     "metadata": {},
     "output_type": "execute_result"
    }
   ],
   "source": [
    "np.unique(np.triu(dist_ham_rc), return_counts=True)"
   ]
  },
  {
   "cell_type": "code",
   "execution_count": 16,
   "metadata": {},
   "outputs": [
    {
     "data": {
      "text/plain": [
       "(array([0., 3., 4., 5., 6., 7., 8.]),\n",
       " array([496,   5, 125, 140, 199,  39,  20]))"
      ]
     },
     "execution_count": 16,
     "metadata": {},
     "output_type": "execute_result"
    }
   ],
   "source": [
    "np.unique(np.triu(dist_LD_rc), return_counts=True)"
   ]
  },
  {
   "cell_type": "code",
   "execution_count": 17,
   "metadata": {},
   "outputs": [
    {
     "data": {
      "text/plain": [
       "(array([0., 4., 5., 6., 7., 8.]), array([496,  36, 115, 340,  31,   6]))"
      ]
     },
     "execution_count": 17,
     "metadata": {},
     "output_type": "execute_result"
    }
   ],
   "source": [
    "np.unique(np.triu(dist_ss_rc), return_counts=True)"
   ]
  },
  {
   "cell_type": "code",
   "execution_count": 18,
   "metadata": {},
   "outputs": [
    {
     "data": {
      "text/plain": [
       "(array([0.5, 4. , 5. , 6. , 7. , 8. ]), array([496,  36, 115, 340,  31,   6]))"
      ]
     },
     "execution_count": 18,
     "metadata": {},
     "output_type": "execute_result"
    }
   ],
   "source": [
    "# This is to identify any zeros. Any zeros not caused by the tri-upper function should show up as 0 here\n",
    "np.unique(np.triu(dist_ss_rc-0.5)+0.5, return_counts=True)"
   ]
  },
  {
   "cell_type": "code",
   "execution_count": 19,
   "metadata": {},
   "outputs": [
    {
     "data": {
      "text/plain": [
       "(array([0., 4., 5., 6., 7., 8.]), array([528,  87,  42, 294,  20,  53]))"
      ]
     },
     "execution_count": 19,
     "metadata": {},
     "output_type": "execute_result"
    }
   ],
   "source": [
    "np.unique(np.triu(dist_ham), return_counts=True)"
   ]
  },
  {
   "cell_type": "code",
   "execution_count": 20,
   "metadata": {},
   "outputs": [
    {
     "data": {
      "text/plain": [
       "(array([0., 3., 4., 5., 6., 7., 8.]),\n",
       " array([528,   4, 117, 154, 190,  24,   7]))"
      ]
     },
     "execution_count": 20,
     "metadata": {},
     "output_type": "execute_result"
    }
   ],
   "source": [
    "np.unique(np.triu(dist_LD), return_counts=True)"
   ]
  },
  {
   "cell_type": "code",
   "execution_count": 21,
   "metadata": {},
   "outputs": [
    {
     "data": {
      "text/plain": [
       "(array([0., 4., 5., 6., 7., 8.]), array([528,  47, 142, 281,  22,   4]))"
      ]
     },
     "execution_count": 21,
     "metadata": {},
     "output_type": "execute_result"
    }
   ],
   "source": [
    "np.unique(np.triu(dist_ss), return_counts=True)"
   ]
  },
  {
   "cell_type": "code",
   "execution_count": null,
   "metadata": {},
   "outputs": [],
   "source": []
  },
  {
   "cell_type": "code",
   "execution_count": null,
   "metadata": {},
   "outputs": [],
   "source": []
  },
  {
   "cell_type": "code",
   "execution_count": null,
   "metadata": {},
   "outputs": [],
   "source": []
  }
 ],
 "metadata": {
  "kernelspec": {
   "display_name": "Python 3 (ipykernel)",
   "language": "python",
   "name": "python3"
  },
  "language_info": {
   "codemirror_mode": {
    "name": "ipython",
    "version": 3
   },
   "file_extension": ".py",
   "mimetype": "text/x-python",
   "name": "python",
   "nbconvert_exporter": "python",
   "pygments_lexer": "ipython3",
   "version": "3.9.12"
  }
 },
 "nbformat": 4,
 "nbformat_minor": 4
}
