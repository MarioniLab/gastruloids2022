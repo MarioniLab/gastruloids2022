{
 "cells": [
  {
   "cell_type": "code",
   "execution_count": 1,
   "id": "f09e5e35",
   "metadata": {},
   "outputs": [
    {
     "data": {
      "text/html": [
       "<style>.container { width:100% !important; }</style>"
      ],
      "text/plain": [
       "<IPython.core.display.HTML object>"
      ]
     },
     "metadata": {},
     "output_type": "display_data"
    },
    {
     "name": "stdout",
     "output_type": "stream",
     "text": [
      "time: 6.56 ms (started: 2022-06-25 01:21:40 +01:00)\n"
     ]
    }
   ],
   "source": [
    "# run \"pip install ipython-autotime\" in your conda env\n",
    "%load_ext autotime\n",
    "\n",
    "from IPython.core.display import display, HTML\n",
    "display(HTML(\"<style>.container { width:100% !important; }</style>\"))\n",
    "\n",
    "RANDOM_SEED = 2402"
   ]
  },
  {
   "cell_type": "code",
   "execution_count": 2,
   "id": "7ef28412",
   "metadata": {},
   "outputs": [
    {
     "name": "stdout",
     "output_type": "stream",
     "text": [
      "time: 715 ms (started: 2022-06-25 01:21:41 +01:00)\n"
     ]
    }
   ],
   "source": [
    "from scipy.io import mmread\n",
    "import pandas as pd"
   ]
  },
  {
   "cell_type": "code",
   "execution_count": 3,
   "id": "577ef0f9",
   "metadata": {},
   "outputs": [
    {
     "data": {
      "text/html": [
       "<div>\n",
       "<style scoped>\n",
       "    .dataframe tbody tr th:only-of-type {\n",
       "        vertical-align: middle;\n",
       "    }\n",
       "\n",
       "    .dataframe tbody tr th {\n",
       "        vertical-align: top;\n",
       "    }\n",
       "\n",
       "    .dataframe thead th {\n",
       "        text-align: right;\n",
       "    }\n",
       "</style>\n",
       "<table border=\"1\" class=\"dataframe\">\n",
       "  <thead>\n",
       "    <tr style=\"text-align: right;\">\n",
       "      <th></th>\n",
       "      <th>Source Name</th>\n",
       "      <th>Comment[ENA_SAMPLE]</th>\n",
       "      <th>Material Type</th>\n",
       "      <th>Provider</th>\n",
       "      <th>Characteristics[organism]</th>\n",
       "      <th>Characteristics[specimen with known storage state]</th>\n",
       "      <th>Characteristics[genotype]</th>\n",
       "      <th>Characteristics[cell type]</th>\n",
       "      <th>Protocol REF</th>\n",
       "      <th>Protocol REF.1</th>\n",
       "      <th>...</th>\n",
       "      <th>Assay Name</th>\n",
       "      <th>Technology Type</th>\n",
       "      <th>Comment[ENA_EXPERIMENT]</th>\n",
       "      <th>Scan Name</th>\n",
       "      <th>Comment[SUBMITTED_FILE_NAME]</th>\n",
       "      <th>Comment[ENA_RUN]</th>\n",
       "      <th>Comment[FASTQ_URI]</th>\n",
       "      <th>Comment[MD5]</th>\n",
       "      <th>Factor Value[time]</th>\n",
       "      <th>Unit[time unit]</th>\n",
       "    </tr>\n",
       "  </thead>\n",
       "  <tbody>\n",
       "    <tr>\n",
       "      <th>0</th>\n",
       "      <td>D1_1</td>\n",
       "      <td>ERS423599</td>\n",
       "      <td>cell</td>\n",
       "      <td>J.Briscoe Lab</td>\n",
       "      <td>Mus musculus</td>\n",
       "      <td>frozen specimen</td>\n",
       "      <td>wild type genotype</td>\n",
       "      <td>mouse embryonic stem cell</td>\n",
       "      <td>P-MTAB-37783</td>\n",
       "      <td>P-MTAB-37784</td>\n",
       "      <td>...</td>\n",
       "      <td>Sample_405.fastq.gz</td>\n",
       "      <td>sequencing assay</td>\n",
       "      <td>ERX425731</td>\n",
       "      <td>Sample_405.fastq.gz</td>\n",
       "      <td>Sample_405.fastq.gz</td>\n",
       "      <td>ERR459376</td>\n",
       "      <td>ftp://ftp.sra.ebi.ac.uk/vol1/fastq/ERR459/ERR4...</td>\n",
       "      <td>576a048f279bab11f313bcd57aad3444</td>\n",
       "      <td>1.0</td>\n",
       "      <td>day</td>\n",
       "    </tr>\n",
       "    <tr>\n",
       "      <th>1</th>\n",
       "      <td>D1_2</td>\n",
       "      <td>ERS423603</td>\n",
       "      <td>cell</td>\n",
       "      <td>J.Briscoe Lab</td>\n",
       "      <td>Mus musculus</td>\n",
       "      <td>frozen specimen</td>\n",
       "      <td>wild type genotype</td>\n",
       "      <td>mouse embryonic stem cell</td>\n",
       "      <td>P-MTAB-37783</td>\n",
       "      <td>P-MTAB-37784</td>\n",
       "      <td>...</td>\n",
       "      <td>Sample_406.fastq.gz</td>\n",
       "      <td>sequencing assay</td>\n",
       "      <td>ERX425735</td>\n",
       "      <td>Sample_406.fastq.gz</td>\n",
       "      <td>Sample_406.fastq.gz</td>\n",
       "      <td>ERR459395</td>\n",
       "      <td>ftp://ftp.sra.ebi.ac.uk/vol1/fastq/ERR459/ERR4...</td>\n",
       "      <td>81ced8b551592a1a698e1840d18d4789</td>\n",
       "      <td>1.0</td>\n",
       "      <td>day</td>\n",
       "    </tr>\n",
       "    <tr>\n",
       "      <th>2</th>\n",
       "      <td>D1_3</td>\n",
       "      <td>ERS423614</td>\n",
       "      <td>cell</td>\n",
       "      <td>J.Briscoe Lab</td>\n",
       "      <td>Mus musculus</td>\n",
       "      <td>frozen specimen</td>\n",
       "      <td>wild type genotype</td>\n",
       "      <td>mouse embryonic stem cell</td>\n",
       "      <td>P-MTAB-37783</td>\n",
       "      <td>P-MTAB-37784</td>\n",
       "      <td>...</td>\n",
       "      <td>Sample_407.fastq.gz</td>\n",
       "      <td>sequencing assay</td>\n",
       "      <td>ERX425746</td>\n",
       "      <td>Sample_407.fastq.gz</td>\n",
       "      <td>Sample_407.fastq.gz</td>\n",
       "      <td>ERR459387</td>\n",
       "      <td>ftp://ftp.sra.ebi.ac.uk/vol1/fastq/ERR459/ERR4...</td>\n",
       "      <td>5e570d314c2a5cf791783f548284e2e0</td>\n",
       "      <td>1.0</td>\n",
       "      <td>day</td>\n",
       "    </tr>\n",
       "    <tr>\n",
       "      <th>3</th>\n",
       "      <td>D2_1</td>\n",
       "      <td>ERS423595</td>\n",
       "      <td>cell</td>\n",
       "      <td>J.Briscoe Lab</td>\n",
       "      <td>Mus musculus</td>\n",
       "      <td>frozen specimen</td>\n",
       "      <td>wild type genotype</td>\n",
       "      <td>mouse embryonic stem cell</td>\n",
       "      <td>P-MTAB-37783</td>\n",
       "      <td>P-MTAB-37784</td>\n",
       "      <td>...</td>\n",
       "      <td>Sample_408.fastq.gz</td>\n",
       "      <td>sequencing assay</td>\n",
       "      <td>ERX425727</td>\n",
       "      <td>Sample_408.fastq.gz</td>\n",
       "      <td>Sample_408.fastq.gz</td>\n",
       "      <td>ERR459379</td>\n",
       "      <td>ftp://ftp.sra.ebi.ac.uk/vol1/fastq/ERR459/ERR4...</td>\n",
       "      <td>240854834cdf6e1149a1c60c893924db</td>\n",
       "      <td>2.0</td>\n",
       "      <td>day</td>\n",
       "    </tr>\n",
       "    <tr>\n",
       "      <th>4</th>\n",
       "      <td>D2_2</td>\n",
       "      <td>ERS423592</td>\n",
       "      <td>cell</td>\n",
       "      <td>J.Briscoe Lab</td>\n",
       "      <td>Mus musculus</td>\n",
       "      <td>frozen specimen</td>\n",
       "      <td>wild type genotype</td>\n",
       "      <td>mouse embryonic stem cell</td>\n",
       "      <td>P-MTAB-37783</td>\n",
       "      <td>P-MTAB-37784</td>\n",
       "      <td>...</td>\n",
       "      <td>Sample_409.fastq.gz</td>\n",
       "      <td>sequencing assay</td>\n",
       "      <td>ERX425724</td>\n",
       "      <td>Sample_409.fastq.gz</td>\n",
       "      <td>Sample_409.fastq.gz</td>\n",
       "      <td>ERR459385</td>\n",
       "      <td>ftp://ftp.sra.ebi.ac.uk/vol1/fastq/ERR459/ERR4...</td>\n",
       "      <td>a3d26e675778acd9ebd221fdef655a8a</td>\n",
       "      <td>2.0</td>\n",
       "      <td>day</td>\n",
       "    </tr>\n",
       "  </tbody>\n",
       "</table>\n",
       "<p>5 rows × 29 columns</p>\n",
       "</div>"
      ],
      "text/plain": [
       "  Source Name Comment[ENA_SAMPLE] Material Type       Provider  \\\n",
       "0        D1_1           ERS423599          cell  J.Briscoe Lab   \n",
       "1        D1_2           ERS423603          cell  J.Briscoe Lab   \n",
       "2        D1_3           ERS423614          cell  J.Briscoe Lab   \n",
       "3        D2_1           ERS423595          cell  J.Briscoe Lab   \n",
       "4        D2_2           ERS423592          cell  J.Briscoe Lab   \n",
       "\n",
       "  Characteristics[organism]  \\\n",
       "0              Mus musculus   \n",
       "1              Mus musculus   \n",
       "2              Mus musculus   \n",
       "3              Mus musculus   \n",
       "4              Mus musculus   \n",
       "\n",
       "  Characteristics[specimen with known storage state]  \\\n",
       "0                                    frozen specimen   \n",
       "1                                    frozen specimen   \n",
       "2                                    frozen specimen   \n",
       "3                                    frozen specimen   \n",
       "4                                    frozen specimen   \n",
       "\n",
       "  Characteristics[genotype] Characteristics[cell type]  Protocol REF  \\\n",
       "0        wild type genotype  mouse embryonic stem cell  P-MTAB-37783   \n",
       "1        wild type genotype  mouse embryonic stem cell  P-MTAB-37783   \n",
       "2        wild type genotype  mouse embryonic stem cell  P-MTAB-37783   \n",
       "3        wild type genotype  mouse embryonic stem cell  P-MTAB-37783   \n",
       "4        wild type genotype  mouse embryonic stem cell  P-MTAB-37783   \n",
       "\n",
       "  Protocol REF.1  ...           Assay Name   Technology Type  \\\n",
       "0   P-MTAB-37784  ...  Sample_405.fastq.gz  sequencing assay   \n",
       "1   P-MTAB-37784  ...  Sample_406.fastq.gz  sequencing assay   \n",
       "2   P-MTAB-37784  ...  Sample_407.fastq.gz  sequencing assay   \n",
       "3   P-MTAB-37784  ...  Sample_408.fastq.gz  sequencing assay   \n",
       "4   P-MTAB-37784  ...  Sample_409.fastq.gz  sequencing assay   \n",
       "\n",
       "  Comment[ENA_EXPERIMENT]            Scan Name Comment[SUBMITTED_FILE_NAME]  \\\n",
       "0               ERX425731  Sample_405.fastq.gz          Sample_405.fastq.gz   \n",
       "1               ERX425735  Sample_406.fastq.gz          Sample_406.fastq.gz   \n",
       "2               ERX425746  Sample_407.fastq.gz          Sample_407.fastq.gz   \n",
       "3               ERX425727  Sample_408.fastq.gz          Sample_408.fastq.gz   \n",
       "4               ERX425724  Sample_409.fastq.gz          Sample_409.fastq.gz   \n",
       "\n",
       "  Comment[ENA_RUN]                                 Comment[FASTQ_URI]  \\\n",
       "0        ERR459376  ftp://ftp.sra.ebi.ac.uk/vol1/fastq/ERR459/ERR4...   \n",
       "1        ERR459395  ftp://ftp.sra.ebi.ac.uk/vol1/fastq/ERR459/ERR4...   \n",
       "2        ERR459387  ftp://ftp.sra.ebi.ac.uk/vol1/fastq/ERR459/ERR4...   \n",
       "3        ERR459379  ftp://ftp.sra.ebi.ac.uk/vol1/fastq/ERR459/ERR4...   \n",
       "4        ERR459385  ftp://ftp.sra.ebi.ac.uk/vol1/fastq/ERR459/ERR4...   \n",
       "\n",
       "                       Comment[MD5] Factor Value[time] Unit[time unit]  \n",
       "0  576a048f279bab11f313bcd57aad3444                1.0             day  \n",
       "1  81ced8b551592a1a698e1840d18d4789                1.0             day  \n",
       "2  5e570d314c2a5cf791783f548284e2e0                1.0             day  \n",
       "3  240854834cdf6e1149a1c60c893924db                2.0             day  \n",
       "4  a3d26e675778acd9ebd221fdef655a8a                2.0             day  \n",
       "\n",
       "[5 rows x 29 columns]"
      ]
     },
     "execution_count": 3,
     "metadata": {},
     "output_type": "execute_result"
    },
    {
     "name": "stdout",
     "output_type": "stream",
     "text": [
      "time: 33.9 ms (started: 2022-06-25 01:21:42 +01:00)\n"
     ]
    }
   ],
   "source": [
    "metadata = pd.read_table('/nfs/research/marioni/Leah/gastrulation_epigenetics/gastruloid_characterisation/other_data/gouti2014/E-MTAB-2268.sdrf.txt')\n",
    "metadata.head()"
   ]
  },
  {
   "cell_type": "code",
   "execution_count": 4,
   "id": "7b493c56",
   "metadata": {},
   "outputs": [
    {
     "name": "stdout",
     "output_type": "stream",
     "text": [
      "time: 1.7 s (started: 2022-06-25 01:21:48 +01:00)\n"
     ]
    }
   ],
   "source": [
    "samples = metadata[\"Comment[ENA_RUN]\"].unique()\n",
    "mtx_dict = {}\n",
    "for s in samples:\n",
    "    mtx_dict[s] = pd.DataFrame(mmread('/nfs/research/marioni/Leah/gastrulation_epigenetics/gastruloid_characterisation/other_data/gouti2014/htseq_out/' + s + '.mtx').T,\n",
    "                               index = pd.Index(pd.read_table('/nfs/research/marioni/Leah/gastrulation_epigenetics/gastruloid_characterisation/other_data/gouti2014/htseq_out/' + s + '_features.tsv').id),\n",
    "                               columns = [metadata[metadata[\"Comment[ENA_RUN]\"] == s][\"Source Name\"].values[0]]\n",
    "                              )\n",
    "mtx = pd.concat(mtx_dict.values(), axis=1)"
   ]
  },
  {
   "cell_type": "code",
   "execution_count": 5,
   "id": "be9d04f6",
   "metadata": {},
   "outputs": [
    {
     "name": "stdout",
     "output_type": "stream",
     "text": [
      "time: 620 ms (started: 2022-06-25 01:21:49 +01:00)\n"
     ]
    }
   ],
   "source": [
    "mtx.to_csv('/nfs/research/marioni/Leah/gastrulation_epigenetics/gastruloid_characterisation/other_data/gouti2014/counts.csv')"
   ]
  },
  {
   "cell_type": "code",
   "execution_count": null,
   "id": "e7ebbf3a",
   "metadata": {},
   "outputs": [],
   "source": []
  }
 ],
 "metadata": {
  "kernelspec": {
   "display_name": "Python 3 (ipykernel)",
   "language": "python",
   "name": "python3"
  },
  "language_info": {
   "codemirror_mode": {
    "name": "ipython",
    "version": 3
   },
   "file_extension": ".py",
   "mimetype": "text/x-python",
   "name": "python",
   "nbconvert_exporter": "python",
   "pygments_lexer": "ipython3",
   "version": "3.9.6"
  }
 },
 "nbformat": 4,
 "nbformat_minor": 5
}
